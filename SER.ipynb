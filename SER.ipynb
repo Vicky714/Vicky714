{
  "nbformat": 4,
  "nbformat_minor": 0,
  "metadata": {
    "colab": {
      "provenance": [],
      "gpuType": "T4",
      "mount_file_id": "1q7K_5arihzQQfO5ZHsD2UeqbM7JPPjC9",
      "authorship_tag": "ABX9TyNvscgVRluQrLXC37eVl9gn",
      "include_colab_link": true
    },
    "kernelspec": {
      "name": "python3",
      "display_name": "Python 3"
    },
    "language_info": {
      "name": "python"
    },
    "accelerator": "GPU"
  },
  "cells": [
    {
      "cell_type": "markdown",
      "metadata": {
        "id": "view-in-github",
        "colab_type": "text"
      },
      "source": [
        "<a href=\"https://colab.research.google.com/github/Vicky714/Vicky714/blob/main/SER.ipynb\" target=\"_parent\"><img src=\"https://colab.research.google.com/assets/colab-badge.svg\" alt=\"Open In Colab\"/></a>"
      ]
    },
    {
      "cell_type": "code",
      "execution_count": 2,
      "metadata": {
        "colab": {
          "base_uri": "https://localhost:8080/"
        },
        "id": "ssR-Z02Ccch3",
        "outputId": "f2613fe9-d2c3-48c0-f60f-6f588a1607f6"
      },
      "outputs": [
        {
          "output_type": "stream",
          "name": "stdout",
          "text": [
            "Cloning into 'MSP-Podcast_Challenge_IS2025'...\n",
            "remote: Enumerating objects: 47, done.\u001b[K\n",
            "remote: Counting objects: 100% (47/47), done.\u001b[K\n",
            "remote: Compressing objects: 100% (43/43), done.\u001b[K\n",
            "remote: Total 47 (delta 11), reused 1 (delta 0), pack-reused 0 (from 0)\u001b[K\n",
            "Receiving objects: 100% (47/47), 20.84 KiB | 10.42 MiB/s, done.\n",
            "Resolving deltas: 100% (11/11), done.\n"
          ]
        }
      ],
      "source": [
        "!git clone https://github.com/msplabresearch/MSP-Podcast_Challenge_IS2025"
      ]
    },
    {
      "cell_type": "code",
      "source": [],
      "metadata": {
        "id": "L3qZsZL1kRBc"
      },
      "execution_count": null,
      "outputs": []
    },
    {
      "cell_type": "markdown",
      "source": [
        "[link text](https://)"
      ],
      "metadata": {
        "id": "gv3MVB1SXrJx"
      }
    },
    {
      "cell_type": "code",
      "source": [
        "%cd /content/MSP-Podcast_Challenge_IS2025\n",
        "!bash run_cat.sh"
      ],
      "metadata": {
        "colab": {
          "base_uri": "https://localhost:8080/"
        },
        "id": "MM9NybwNhs3_",
        "outputId": "46fadb61-722b-47a6-9966-c89b86380f87"
      },
      "execution_count": 8,
      "outputs": [
        {
          "output_type": "stream",
          "name": "stdout",
          "text": [
            "/content/MSP-Podcast_Challenge_IS2025\n",
            "{'Angry': 1.3415178571428572, 'Sad': 1.0152027027027026, 'Happy': 1.0016666666666667, 'Surprise': 0.9390625, 'Fear': 1.0152027027027026, 'Disgust': 0.9390625, 'Contempt': 1.0152027027027026, 'Neutral': 0.8536931818181818}\n",
            "tensor([1.3415, 1.0152, 1.0017, 0.9391, 1.0152, 0.9391, 1.0152, 0.8537])\n",
            "100% 601/601 [07:42<00:00,  1.30it/s]\n",
            "/usr/local/lib/python3.10/dist-packages/torch/utils/data/dataloader.py:617: UserWarning: This DataLoader will create 4 worker processes in total. Our suggested max number of worker in current system is 2, which is smaller than what this DataLoader is going to create. Please be aware that excessive worker creation might get DataLoader running slow or even freeze, lower the worker number to avoid potential slowness/freeze if necessary.\n",
            "  warnings.warn(\n",
            "100% 199/199 [00:48<00:00,  4.09it/s]\n",
            "/usr/local/lib/python3.10/dist-packages/torch/utils/data/dataloader.py:617: UserWarning: This DataLoader will create 4 worker processes in total. Our suggested max number of worker in current system is 2, which is smaller than what this DataLoader is going to create. Please be aware that excessive worker creation might get DataLoader running slow or even freeze, lower the worker number to avoid potential slowness/freeze if necessary.\n",
            "  warnings.warn(\n",
            "Loading pre-trained models...\n",
            "config.json: 100% 2.22k/2.22k [00:00<00:00, 11.2MB/s]\n",
            "2025-01-14 11:46:34.060808: E external/local_xla/xla/stream_executor/cuda/cuda_fft.cc:485] Unable to register cuFFT factory: Attempting to register factory for plugin cuFFT when one has already been registered\n",
            "2025-01-14 11:46:34.089550: E external/local_xla/xla/stream_executor/cuda/cuda_dnn.cc:8454] Unable to register cuDNN factory: Attempting to register factory for plugin cuDNN when one has already been registered\n",
            "2025-01-14 11:46:34.097759: E external/local_xla/xla/stream_executor/cuda/cuda_blas.cc:1452] Unable to register cuBLAS factory: Attempting to register factory for plugin cuBLAS when one has already been registered\n",
            "2025-01-14 11:46:34.124335: I tensorflow/core/platform/cpu_feature_guard.cc:210] This TensorFlow binary is optimized to use available CPU instructions in performance-critical operations.\n",
            "To enable the following instructions: AVX2 FMA, in other operations, rebuild TensorFlow with the appropriate compiler flags.\n",
            "2025-01-14 11:46:35.750236: W tensorflow/compiler/tf2tensorrt/utils/py_utils.cc:38] TF-TRT Warning: Could not find TensorRT\n",
            "pytorch_model.bin: 100% 1.26G/1.26G [00:07<00:00, 169MB/s]\n",
            "config.json: 100% 843/843 [00:00<00:00, 3.28MB/s]\n",
            "pytorch_model.bin: 100% 1.26G/1.26G [00:24<00:00, 52.3MB/s]\n",
            "model.safetensors: 100% 1.26G/1.26G [00:24<00:00, 51.5MB/s]\n",
            "Some weights of Wav2Vec2Model were not initialized from the model checkpoint at facebook/wav2vec2-large-960h and are newly initialized: ['wav2vec2.masked_spec_embed']\n",
            "You should probably TRAIN this model on a down-stream task to be able to use it for predictions and inference.\n",
            "Epoch:  0\n",
            "  0% 0/601 [00:00<?, ?it/s]/usr/local/lib/python3.10/dist-packages/torch/utils/data/dataloader.py:617: UserWarning: This DataLoader will create 4 worker processes in total. Our suggested max number of worker in current system is 2, which is smaller than what this DataLoader is going to create. Please be aware that excessive worker creation might get DataLoader running slow or even freeze, lower the worker number to avoid potential slowness/freeze if necessary.\n",
            "  warnings.warn(\n",
            "/usr/local/lib/python3.10/dist-packages/torch/nn/functional.py:5849: UserWarning: Support for mismatched key_padding_mask and attn_mask is deprecated. Use same type for both instead.\n",
            "  warnings.warn(\n",
            "model.safetensors: 100% 1.26G/1.26G [00:31<00:00, 39.9MB/s]\n",
            "100% 601/601 [1:39:30<00:00,  9.93s/it]\n",
            "100% 199/199 [33:38<00:00, 10.14s/it]\n",
            "train_loss : 2.2215 / dev_loss : 2.442 /  \n",
            "Save 0\n",
            "Loss 2.442\n",
            "{'Angry': 1.3415178571428572, 'Sad': 1.0152027027027026, 'Happy': 1.0016666666666667, 'Surprise': 0.9390625, 'Fear': 1.0152027027027026, 'Disgust': 0.9390625, 'Contempt': 1.0152027027027026, 'Neutral': 0.8536931818181818}\n",
            "tensor([1.3415, 1.0152, 1.0017, 0.9391, 1.0152, 0.9391, 1.0152, 0.8537])\n",
            "100% 199/199 [00:40<00:00,  4.91it/s]\n",
            "Loading pre-trained models...\n",
            "2025-01-14 14:02:01.263728: E external/local_xla/xla/stream_executor/cuda/cuda_fft.cc:485] Unable to register cuFFT factory: Attempting to register factory for plugin cuFFT when one has already been registered\n",
            "2025-01-14 14:02:01.298073: E external/local_xla/xla/stream_executor/cuda/cuda_dnn.cc:8454] Unable to register cuDNN factory: Attempting to register factory for plugin cuDNN when one has already been registered\n",
            "2025-01-14 14:02:01.308380: E external/local_xla/xla/stream_executor/cuda/cuda_blas.cc:1452] Unable to register cuBLAS factory: Attempting to register factory for plugin cuBLAS when one has already been registered\n",
            "2025-01-14 14:02:01.347395: I tensorflow/core/platform/cpu_feature_guard.cc:210] This TensorFlow binary is optimized to use available CPU instructions in performance-critical operations.\n",
            "To enable the following instructions: AVX2 FMA, in other operations, rebuild TensorFlow with the appropriate compiler flags.\n",
            "2025-01-14 14:02:03.347125: W tensorflow/compiler/tf2tensorrt/utils/py_utils.cc:38] TF-TRT Warning: Could not find TensorRT\n",
            "Some weights of Wav2Vec2Model were not initialized from the model checkpoint at facebook/wav2vec2-large-960h and are newly initialized: ['wav2vec2.masked_spec_embed']\n",
            "You should probably TRAIN this model on a down-stream task to be able to use it for predictions and inference.\n",
            "  0% 0/199 [00:00<?, ?it/s]/usr/local/lib/python3.10/dist-packages/torch/nn/functional.py:5849: UserWarning: Support for mismatched key_padding_mask and attn_mask is deprecated. Use same type for both instead.\n",
            "  warnings.warn(\n",
            "100% 199/199 [32:27<00:00,  9.78s/it]\n",
            "True labels (sample): [('MSP-PODCAST_0052_0041.wav', {'Angry': 0.0, 'Sad': 0.0, 'Happy': 1.0, 'Surprise': 0.0, 'Fear': 0.0, 'Disgust': 0.0, 'Contempt': 0.0, 'Neutral': 0.0}), ('MSP-PODCAST_0052_0100.wav', {'Angry': 0.0, 'Sad': 0.0, 'Happy': 0.0, 'Surprise': 0.0, 'Fear': 0.0, 'Disgust': 1.0, 'Contempt': 0.0, 'Neutral': 0.0}), ('MSP-PODCAST_0058_0202.wav', {'Angry': 0.0, 'Sad': 0.0, 'Happy': 1.0, 'Surprise': 0.0, 'Fear': 0.0, 'Disgust': 0.0, 'Contempt': 0.0, 'Neutral': 0.0}), ('MSP-PODCAST_0058_0383.wav', {'Angry': 0.0, 'Sad': 0.0, 'Happy': 0.0, 'Surprise': 0.0, 'Fear': 0.0, 'Disgust': 1.0, 'Contempt': 0.0, 'Neutral': 0.0}), ('MSP-PODCAST_0133_0033.wav', {'Angry': 0.0, 'Sad': 0.0, 'Happy': 0.0, 'Surprise': 0.0, 'Fear': 0.0, 'Disgust': 1.0, 'Contempt': 0.0, 'Neutral': 0.0})]\n",
            "Predicted labels (sample): [('MSP-PODCAST_0052_0041.wav', array([0., 1., 0., 0., 0., 1., 0., 0.])), ('MSP-PODCAST_0052_0100.wav', array([0., 1., 0., 0., 0., 1., 1., 1.])), ('MSP-PODCAST_0058_0202.wav', array([0., 1., 0., 1., 0., 0., 0., 0.])), ('MSP-PODCAST_0058_0383.wav', array([0., 1., 0., 1., 0., 0., 0., 0.])), ('MSP-PODCAST_0133_0033.wav', array([0., 0., 0., 0., 0., 1., 0., 0.]))]\n",
            "Accuracy on Development set: 0.7261\n"
          ]
        }
      ]
    },
    {
      "cell_type": "code",
      "source": [],
      "metadata": {
        "id": "sQm6oyRTiLki"
      },
      "execution_count": null,
      "outputs": []
    },
    {
      "cell_type": "code",
      "source": [
        "import pandas as pd\n",
        "import numpy as np\n",
        "\n",
        "# Load the predictions CSV\n",
        "predictions = pd.read_csv('/content/MSP-Podcast_Challenge_IS2025/model/cat_ser/7/results/Development.csv')\n",
        "\n",
        "# Define the mapping of emotions to their abbreviations\n",
        "emotion_map = ['A', 'S', 'H', 'U', 'F', 'D', 'C', 'N']\n",
        "\n",
        "# Create a function to process a row\n",
        "def get_emotion_class(row):\n",
        "    # Convert the Prediction string to a list of floats\n",
        "    scores = np.array(list(map(float, row['Prediction'].split(','))))\n",
        "    # Find the index of the maximum value\n",
        "    max_index = np.argmax(scores)\n",
        "    # Print the .wav file name and the max index for debugging\n",
        "    print(f\"File: {row['FileName']}, Max Index: {max_index}\")\n",
        "    # Map the index to the emotion class\n",
        "    return emotion_map[max_index]\n",
        "\n",
        "# Apply the function to each row and create a new column for EmoClass\n",
        "predictions['EmoClass'] = predictions.apply(get_emotion_class, axis=1)\n",
        "\n",
        "# Select only the required columns and save to a new CSV\n",
        "output_df = predictions[['FileName', 'EmoClass']]\n",
        "output_df.to_csv('test3_predictions_wav2vec.csv', index=False)\n",
        "\n",
        "print(\"Converted predictions saved to 'converted_predictions.csv'\")\n"
      ],
      "metadata": {
        "colab": {
          "base_uri": "https://localhost:8080/"
        },
        "id": "xPRdb-rDcPgM",
        "outputId": "1bd18854-8850-40bc-9697-a18ba04334d1"
      },
      "execution_count": 12,
      "outputs": [
        {
          "output_type": "stream",
          "name": "stdout",
          "text": [
            "File: MSP-PODCAST_0052_0041.wav, Max Index: 1\n",
            "File: MSP-PODCAST_0052_0100.wav, Max Index: 6\n",
            "File: MSP-PODCAST_0058_0202.wav, Max Index: 1\n",
            "File: MSP-PODCAST_0058_0383.wav, Max Index: 3\n",
            "File: MSP-PODCAST_0133_0033.wav, Max Index: 5\n",
            "File: MSP-PODCAST_0133_0382.wav, Max Index: 5\n",
            "File: MSP-PODCAST_0133_0386.wav, Max Index: 4\n",
            "File: MSP-PODCAST_0133_0917.wav, Max Index: 1\n",
            "File: MSP-PODCAST_0133_1071.wav, Max Index: 5\n",
            "File: MSP-PODCAST_0133_1141.wav, Max Index: 5\n",
            "File: MSP-PODCAST_0157_0073.wav, Max Index: 5\n",
            "File: MSP-PODCAST_0203_1052.wav, Max Index: 1\n",
            "File: MSP-PODCAST_0261_0066.wav, Max Index: 6\n",
            "File: MSP-PODCAST_0261_0131.wav, Max Index: 1\n",
            "File: MSP-PODCAST_0261_0182.wav, Max Index: 7\n",
            "File: MSP-PODCAST_0261_0298.wav, Max Index: 1\n",
            "File: MSP-PODCAST_0261_0446.wav, Max Index: 1\n",
            "File: MSP-PODCAST_0355_0293.wav, Max Index: 0\n",
            "File: MSP-PODCAST_0357_0115.wav, Max Index: 1\n",
            "File: MSP-PODCAST_0357_0166.wav, Max Index: 3\n",
            "File: MSP-PODCAST_0380_0052_0001.wav, Max Index: 3\n",
            "File: MSP-PODCAST_0380_0125_0005.wav, Max Index: 3\n",
            "File: MSP-PODCAST_0380_0315.wav, Max Index: 5\n",
            "File: MSP-PODCAST_0380_0484.wav, Max Index: 7\n",
            "File: MSP-PODCAST_0399_0711.wav, Max Index: 5\n",
            "File: MSP-PODCAST_0504_0092.wav, Max Index: 3\n",
            "File: MSP-PODCAST_0601_0394.wav, Max Index: 3\n",
            "File: MSP-PODCAST_0610_0358.wav, Max Index: 3\n",
            "File: MSP-PODCAST_0632_0140.wav, Max Index: 3\n",
            "File: MSP-PODCAST_0633_0020.wav, Max Index: 6\n",
            "File: MSP-PODCAST_0633_0292.wav, Max Index: 1\n",
            "File: MSP-PODCAST_0652_0165.wav, Max Index: 3\n",
            "File: MSP-PODCAST_0652_0279.wav, Max Index: 5\n",
            "File: MSP-PODCAST_0653_0345.wav, Max Index: 1\n",
            "File: MSP-PODCAST_0660_0550.wav, Max Index: 7\n",
            "File: MSP-PODCAST_0663_0875.wav, Max Index: 1\n",
            "File: MSP-PODCAST_0666_1084.wav, Max Index: 3\n",
            "File: MSP-PODCAST_0668_0269.wav, Max Index: 6\n",
            "File: MSP-PODCAST_0668_0687.wav, Max Index: 1\n",
            "File: MSP-PODCAST_0727_0203.wav, Max Index: 5\n",
            "File: MSP-PODCAST_0855_0070_0002.wav, Max Index: 3\n",
            "File: MSP-PODCAST_0974_0742.wav, Max Index: 4\n",
            "File: MSP-PODCAST_0974_1994.wav, Max Index: 3\n",
            "File: MSP-PODCAST_1210_0031_0004.wav, Max Index: 1\n",
            "File: MSP-PODCAST_1347_0010_0017.wav, Max Index: 3\n",
            "File: MSP-PODCAST_1347_0022_0017.wav, Max Index: 5\n",
            "File: MSP-PODCAST_1369_0002_0066.wav, Max Index: 3\n",
            "File: MSP-PODCAST_1495_0317_0004.wav, Max Index: 3\n",
            "File: MSP-PODCAST_1495_0350_0005.wav, Max Index: 3\n",
            "File: MSP-PODCAST_1534_0045_0001.wav, Max Index: 7\n",
            "File: MSP-PODCAST_1659_0079_0054.wav, Max Index: 5\n",
            "File: MSP-PODCAST_1908_0110.wav, Max Index: 1\n",
            "File: MSP-PODCAST_1908_1066.wav, Max Index: 7\n",
            "File: MSP-PODCAST_2102_0138.wav, Max Index: 6\n",
            "File: MSP-PODCAST_2103_0089.wav, Max Index: 3\n",
            "File: MSP-PODCAST_2104_0224.wav, Max Index: 3\n",
            "File: MSP-PODCAST_2104_0761.wav, Max Index: 7\n",
            "File: MSP-PODCAST_2104_1509.wav, Max Index: 5\n",
            "File: MSP-PODCAST_2105_1085.wav, Max Index: 3\n",
            "File: MSP-PODCAST_2105_1480.wav, Max Index: 5\n",
            "File: MSP-PODCAST_2105_2328.wav, Max Index: 5\n",
            "File: MSP-PODCAST_2105_3056.wav, Max Index: 3\n",
            "File: MSP-PODCAST_2295_0154.wav, Max Index: 5\n",
            "File: MSP-PODCAST_2336_0131.wav, Max Index: 7\n",
            "File: MSP-PODCAST_2336_1089.wav, Max Index: 1\n",
            "File: MSP-PODCAST_2336_1657.wav, Max Index: 1\n",
            "File: MSP-PODCAST_2336_1695.wav, Max Index: 3\n",
            "File: MSP-PODCAST_2347_0437.wav, Max Index: 5\n",
            "File: MSP-PODCAST_2347_0778.wav, Max Index: 5\n",
            "File: MSP-PODCAST_2347_1173.wav, Max Index: 3\n",
            "File: MSP-PODCAST_2347_1174.wav, Max Index: 0\n",
            "File: MSP-PODCAST_2347_1301.wav, Max Index: 5\n",
            "File: MSP-PODCAST_2347_1337.wav, Max Index: 6\n",
            "File: MSP-PODCAST_2347_2426.wav, Max Index: 7\n",
            "File: MSP-PODCAST_2419_0050.wav, Max Index: 5\n",
            "File: MSP-PODCAST_2419_0133.wav, Max Index: 3\n",
            "File: MSP-PODCAST_2419_0144.wav, Max Index: 5\n",
            "File: MSP-PODCAST_2419_0169.wav, Max Index: 3\n",
            "File: MSP-PODCAST_2419_0283.wav, Max Index: 5\n",
            "File: MSP-PODCAST_2420_0409.wav, Max Index: 0\n",
            "File: MSP-PODCAST_2420_0495.wav, Max Index: 5\n",
            "File: MSP-PODCAST_2420_0669.wav, Max Index: 4\n",
            "File: MSP-PODCAST_2420_0761.wav, Max Index: 6\n",
            "File: MSP-PODCAST_2420_0881.wav, Max Index: 1\n",
            "File: MSP-PODCAST_2420_0988.wav, Max Index: 0\n",
            "File: MSP-PODCAST_2420_1046.wav, Max Index: 1\n",
            "File: MSP-PODCAST_2421_0350.wav, Max Index: 5\n",
            "File: MSP-PODCAST_2421_0409.wav, Max Index: 5\n",
            "File: MSP-PODCAST_2421_0912.wav, Max Index: 5\n",
            "File: MSP-PODCAST_2421_1020.wav, Max Index: 5\n",
            "File: MSP-PODCAST_2421_1334.wav, Max Index: 6\n",
            "File: MSP-PODCAST_2422_0230.wav, Max Index: 5\n",
            "File: MSP-PODCAST_2422_0656.wav, Max Index: 6\n",
            "File: MSP-PODCAST_2422_0827.wav, Max Index: 7\n",
            "File: MSP-PODCAST_2454_0697.wav, Max Index: 6\n",
            "File: MSP-PODCAST_2455_0033.wav, Max Index: 3\n",
            "File: MSP-PODCAST_2456_0249.wav, Max Index: 6\n",
            "File: MSP-PODCAST_2503_0144.wav, Max Index: 3\n",
            "File: MSP-PODCAST_2503_0316.wav, Max Index: 6\n",
            "File: MSP-PODCAST_2504_0037.wav, Max Index: 1\n",
            "File: MSP-PODCAST_2539_0924.wav, Max Index: 5\n",
            "File: MSP-PODCAST_2556_0307.wav, Max Index: 7\n",
            "File: MSP-PODCAST_2754_0337.wav, Max Index: 3\n",
            "File: MSP-PODCAST_2805_0510.wav, Max Index: 3\n",
            "File: MSP-PODCAST_2885_0471.wav, Max Index: 4\n",
            "File: MSP-PODCAST_2885_1128.wav, Max Index: 7\n",
            "File: MSP-PODCAST_2894_0501.wav, Max Index: 3\n",
            "File: MSP-PODCAST_2919_0473.wav, Max Index: 1\n",
            "File: MSP-PODCAST_2931_0492.wav, Max Index: 5\n",
            "File: MSP-PODCAST_2932_0210.wav, Max Index: 3\n",
            "File: MSP-PODCAST_2940_0388.wav, Max Index: 3\n",
            "File: MSP-PODCAST_2952_0275.wav, Max Index: 7\n",
            "File: MSP-PODCAST_2974_0246.wav, Max Index: 4\n",
            "File: MSP-PODCAST_3059_0428.wav, Max Index: 5\n",
            "File: MSP-PODCAST_3092_0003_0001.wav, Max Index: 7\n",
            "File: MSP-PODCAST_3131_0364_0000.wav, Max Index: 1\n",
            "File: MSP-PODCAST_3162_0363.wav, Max Index: 1\n",
            "File: MSP-PODCAST_3169_0264.wav, Max Index: 1\n",
            "File: MSP-PODCAST_3178_0321.wav, Max Index: 5\n",
            "File: MSP-PODCAST_3198_0675.wav, Max Index: 1\n",
            "File: MSP-PODCAST_3217_1575.wav, Max Index: 5\n",
            "File: MSP-PODCAST_3219_0185.wav, Max Index: 7\n",
            "File: MSP-PODCAST_3219_0720.wav, Max Index: 3\n",
            "File: MSP-PODCAST_3227_0125.wav, Max Index: 7\n",
            "File: MSP-PODCAST_3233_0295.wav, Max Index: 3\n",
            "File: MSP-PODCAST_3299_0148.wav, Max Index: 0\n",
            "File: MSP-PODCAST_3370_0093.wav, Max Index: 7\n",
            "File: MSP-PODCAST_3520_0168_0001.wav, Max Index: 1\n",
            "File: MSP-PODCAST_3522_0260_0001.wav, Max Index: 5\n",
            "File: MSP-PODCAST_3544_0081_0000.wav, Max Index: 3\n",
            "File: MSP-PODCAST_3629_0205.wav, Max Index: 5\n",
            "File: MSP-PODCAST_3664_0007.wav, Max Index: 1\n",
            "File: MSP-PODCAST_3668_0047_0000.wav, Max Index: 3\n",
            "File: MSP-PODCAST_3668_0083_0001.wav, Max Index: 3\n",
            "File: MSP-PODCAST_3692_0128_0002.wav, Max Index: 3\n",
            "File: MSP-PODCAST_3702_0068_0005.wav, Max Index: 3\n",
            "File: MSP-PODCAST_3712_0043_0001.wav, Max Index: 3\n",
            "File: MSP-PODCAST_3728_0011_0000.wav, Max Index: 1\n",
            "File: MSP-PODCAST_3728_0095.wav, Max Index: 5\n",
            "File: MSP-PODCAST_3801_0502.wav, Max Index: 3\n",
            "File: MSP-PODCAST_3813_1746.wav, Max Index: 6\n",
            "File: MSP-PODCAST_3830_0116_0001.wav, Max Index: 3\n",
            "File: MSP-PODCAST_3830_0607_0000.wav, Max Index: 3\n",
            "File: MSP-PODCAST_3848_0244.wav, Max Index: 6\n",
            "File: MSP-PODCAST_3875_2613.wav, Max Index: 5\n",
            "File: MSP-PODCAST_3880_0352_0002.wav, Max Index: 5\n",
            "File: MSP-PODCAST_3911_0811.wav, Max Index: 3\n",
            "File: MSP-PODCAST_3915_0065.wav, Max Index: 6\n",
            "File: MSP-PODCAST_3920_0187.wav, Max Index: 3\n",
            "File: MSP-PODCAST_3920_0245.wav, Max Index: 1\n",
            "File: MSP-PODCAST_3964_0709.wav, Max Index: 3\n",
            "File: MSP-PODCAST_3965_1219.wav, Max Index: 7\n",
            "File: MSP-PODCAST_3995_0303.wav, Max Index: 3\n",
            "File: MSP-PODCAST_4016_0001.wav, Max Index: 7\n",
            "File: MSP-PODCAST_4066_0023.wav, Max Index: 5\n",
            "File: MSP-PODCAST_4141_0030_0003.wav, Max Index: 7\n",
            "File: MSP-PODCAST_4265_0140_0000.wav, Max Index: 7\n",
            "File: MSP-PODCAST_4265_0721_0003.wav, Max Index: 3\n",
            "File: MSP-PODCAST_4265_0722_0000.wav, Max Index: 3\n",
            "File: MSP-PODCAST_4265_1151_0001.wav, Max Index: 5\n",
            "File: MSP-PODCAST_4265_1253.wav, Max Index: 6\n",
            "File: MSP-PODCAST_4353_0073_0003.wav, Max Index: 5\n",
            "File: MSP-PODCAST_4514_0126.wav, Max Index: 4\n",
            "File: MSP-PODCAST_4535_0280_0001.wav, Max Index: 5\n",
            "File: MSP-PODCAST_4551_0064_0000.wav, Max Index: 3\n",
            "File: MSP-PODCAST_4632_0022_0004.wav, Max Index: 4\n",
            "File: MSP-PODCAST_4713_0015.wav, Max Index: 3\n",
            "File: MSP-PODCAST_4715_0189_0007.wav, Max Index: 1\n",
            "File: MSP-PODCAST_4723_0039_0000.wav, Max Index: 1\n",
            "File: MSP-PODCAST_4749_0160_0000.wav, Max Index: 6\n",
            "File: MSP-PODCAST_4750_0220_0000.wav, Max Index: 3\n",
            "File: MSP-PODCAST_4764_0267.wav, Max Index: 1\n",
            "File: MSP-PODCAST_4992_1231.wav, Max Index: 6\n",
            "File: MSP-PODCAST_4992_1703.wav, Max Index: 5\n",
            "File: MSP-PODCAST_4992_2000_0006.wav, Max Index: 5\n",
            "File: MSP-PODCAST_5000_3255.wav, Max Index: 4\n",
            "File: MSP-PODCAST_5025_1412.wav, Max Index: 3\n",
            "File: MSP-PODCAST_5033_0562.wav, Max Index: 3\n",
            "File: MSP-PODCAST_5034_0213.wav, Max Index: 5\n",
            "File: MSP-PODCAST_5044_1032.wav, Max Index: 3\n",
            "File: MSP-PODCAST_5064_0151.wav, Max Index: 6\n",
            "File: MSP-PODCAST_5093_0048.wav, Max Index: 7\n",
            "File: MSP-PODCAST_5093_0147.wav, Max Index: 3\n",
            "File: MSP-PODCAST_5095_0430.wav, Max Index: 5\n",
            "File: MSP-PODCAST_5185_0144.wav, Max Index: 5\n",
            "File: MSP-PODCAST_5200_0247.wav, Max Index: 7\n",
            "File: MSP-PODCAST_5200_0802.wav, Max Index: 7\n",
            "File: MSP-PODCAST_5201_0474.wav, Max Index: 1\n",
            "File: MSP-PODCAST_5201_0576.wav, Max Index: 3\n",
            "File: MSP-PODCAST_5204_0300.wav, Max Index: 6\n",
            "File: MSP-PODCAST_5204_1053_0001.wav, Max Index: 3\n",
            "File: MSP-PODCAST_5205_0222.wav, Max Index: 3\n",
            "File: MSP-PODCAST_5205_0592.wav, Max Index: 7\n",
            "File: MSP-PODCAST_5205_0863.wav, Max Index: 4\n",
            "File: MSP-PODCAST_5205_1033.wav, Max Index: 3\n",
            "File: MSP-PODCAST_5256_0867.wav, Max Index: 3\n",
            "File: MSP-PODCAST_5409_1341.wav, Max Index: 7\n",
            "File: MSP-PODCAST_5574_0013.wav, Max Index: 3\n",
            "File: MSP-PODCAST_5582_0171.wav, Max Index: 4\n",
            "Converted predictions saved to 'converted_predictions.csv'\n"
          ]
        }
      ]
    },
    {
      "cell_type": "code",
      "source": [],
      "metadata": {
        "id": "1q3jyb5ecPjB"
      },
      "execution_count": null,
      "outputs": []
    },
    {
      "cell_type": "code",
      "source": [],
      "metadata": {
        "id": "20Qss9aKdFMC"
      },
      "execution_count": null,
      "outputs": []
    },
    {
      "cell_type": "code",
      "source": [
        "import pandas as pd\n",
        "\n",
        "# Load the CSV files\n",
        "true_labels = pd.read_csv('/content/filtered_original.csv', sep='\\t')  # Tab-separated file\n",
        "predictions = pd.read_csv('/content/MSP-Podcast_Challenge_IS2025/test3_predictions_wav2vec.csv', sep=',')  # Comma-separated file\n",
        "\n",
        "# Strip any extra whitespace in column names\n",
        "true_labels.columns = true_labels.columns.str.strip()\n",
        "predictions.columns = predictions.columns.str.strip()\n",
        "\n",
        "# Check column names in both DataFrames\n",
        "print(f\"True Labels Columns: {true_labels.columns.tolist()}\")\n",
        "print(f\"Predictions Columns: {predictions.columns.tolist()}\")\n",
        "\n",
        "# Ensure 'FileName' and 'EmoClass' are present in both DataFrames\n",
        "if 'FileName' not in true_labels.columns or 'FileName' not in predictions.columns:\n",
        "    raise KeyError(\"Column 'FileName' not found in one or both CSV files.\")\n",
        "\n",
        "if 'EmoClass' not in true_labels.columns or 'EmoClass' not in predictions.columns:\n",
        "    raise KeyError(\"Column 'EmoClass' not found in one or both CSV files.\")\n",
        "\n",
        "# Merge the true labels and predictions on 'FileName'\n",
        "merged = pd.merge(predictions, true_labels[['FileName', 'EmoClass']], on='FileName', how='inner')\n",
        "\n",
        "# Rename columns for clarity\n",
        "merged.rename(columns={'EmoClass_x': 'Predicted', 'EmoClass_y': 'True'}, inplace=True)\n",
        "\n",
        "# Compare predicted and true labels\n",
        "merged['Correct'] = merged['Predicted'] == merged['True']\n",
        "\n",
        "# Calculate overall accuracy\n",
        "accuracy = merged['Correct'].mean()\n",
        "\n",
        "# Output the accuracy\n",
        "print(f\"Overall Accuracy: {accuracy:.2%}\")\n",
        "\n"
      ],
      "metadata": {
        "colab": {
          "base_uri": "https://localhost:8080/"
        },
        "id": "uUc8RmYkdFOt",
        "outputId": "4bd6af61-b6ed-4de8-f1ca-3f4c305c142d"
      },
      "execution_count": 17,
      "outputs": [
        {
          "output_type": "stream",
          "name": "stdout",
          "text": [
            "True Labels Columns: ['FileName', 'EmoClass', 'EmoAct', 'EmoVal', 'EmoDom', 'SpkrID', 'Gender', 'Split_Set']\n",
            "Predictions Columns: ['FileName', 'EmoClass']\n",
            "Overall Accuracy: 9.55%\n"
          ]
        }
      ]
    },
    {
      "cell_type": "code",
      "source": [],
      "metadata": {
        "id": "Bq3XKx3Cdkm5"
      },
      "execution_count": null,
      "outputs": []
    }
  ]
}